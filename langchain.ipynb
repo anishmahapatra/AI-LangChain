{
 "cells": [
  {
   "cell_type": "markdown",
   "metadata": {},
   "source": [
    "This is a notebook to showcase various inputs and understanding of LLMs. It can be thought of as a LLM Crash Course. \n",
    "Reach out to me at [Anish Mahapatra (LinkedIn)](https://linkedin.com/in/anishmahapatra)\n",
    "\n",
    "* <b>Author</b>: Anish Mahapatra[(LinkedIn)](https://linkedin.com/in/anishmahapatra)"
   ]
  },
  {
   "cell_type": "markdown",
   "metadata": {},
   "source": [
    "# Initialization Scripts\n",
    "<i>Reference: [@krishnaik](https://www.youtube.com/watch?v=aWKrL4z5H6w)</i>\n"
   ]
  },
  {
   "cell_type": "code",
   "execution_count": 6,
   "metadata": {},
   "outputs": [],
   "source": [
    "from langchain_community.llms.openai import OpenAI\n",
    "from langchain.llms import OpenAI\n",
    "from langchain import HuggingFaceHub\n",
    "from dotenv import load_dotenv, find_dotenv\n",
    "import os\n"
   ]
  },
  {
   "cell_type": "code",
   "execution_count": 7,
   "metadata": {},
   "outputs": [
    {
     "data": {
      "text/plain": [
       "True"
      ]
     },
     "execution_count": 7,
     "metadata": {},
     "output_type": "execute_result"
    }
   ],
   "source": [
    "# Command to load API Keys from .env file. The .env file is part of .gitignore to not leak secret keys.\n",
    "load_dotenv(find_dotenv())\n"
   ]
  },
  {
   "cell_type": "markdown",
   "metadata": {},
   "source": [
    "# Open AI"
   ]
  },
  {
   "cell_type": "code",
   "execution_count": 9,
   "metadata": {},
   "outputs": [],
   "source": [
    "OPENAI_API_KEY = os.environ[\"OPENAI_API_KEY\"]"
   ]
  },
  {
   "cell_type": "markdown",
   "metadata": {},
   "source": [
    "Temperature: The temperature of the model indicates how creative more model is going to be. It ranges from 0 to 1, with 0 indicating that the model is going to play it safe, and 1 indicating that it is going to be super creative."
   ]
  },
  {
   "cell_type": "code",
   "execution_count": 10,
   "metadata": {},
   "outputs": [
    {
     "name": "stderr",
     "output_type": "stream",
     "text": [
      "/Users/anishmahapatra/anaconda3/envs/langchain/lib/python3.11/site-packages/langchain_core/_api/deprecation.py:117: LangChainDeprecationWarning: The class `langchain_community.llms.openai.OpenAI` was deprecated in langchain-community 0.0.10 and will be removed in 0.2.0. An updated version of the class exists in the langchain-openai package and should be used instead. To use it run `pip install -U langchain-openai` and import as `from langchain_openai import OpenAI`.\n",
      "  warn_deprecated(\n"
     ]
    }
   ],
   "source": [
    "llm_openai = OpenAI(openai_api_key=os.environ[\"OPENAI_API_KEY\"], temperature=0.6)"
   ]
  },
  {
   "cell_type": "code",
   "execution_count": 11,
   "metadata": {},
   "outputs": [
    {
     "name": "stderr",
     "output_type": "stream",
     "text": [
      "/Users/anishmahapatra/anaconda3/envs/langchain/lib/python3.11/site-packages/langchain_core/_api/deprecation.py:117: LangChainDeprecationWarning: The function `predict` was deprecated in LangChain 0.1.7 and will be removed in 0.2.0. Use invoke instead.\n",
      "  warn_deprecated(\n"
     ]
    },
    {
     "name": "stdout",
     "output_type": "stream",
     "text": [
      "\n",
      "\n",
      "The capital of India is New Delhi.\n"
     ]
    }
   ],
   "source": [
    "text = \"What is the capital of India\"\n",
    "\n",
    "# Encode the text to UTF-8 before printing\n",
    "print(llm_openai.predict(text)) #.encode('utf-8').decode('utf-8'))\n"
   ]
  },
  {
   "cell_type": "markdown",
   "metadata": {},
   "source": [
    "# Hugging Face"
   ]
  },
  {
   "cell_type": "code",
   "execution_count": 111,
   "metadata": {},
   "outputs": [],
   "source": [
    "HUGGINGFACEHUB_API_TOKEN = os.environ[\"HUGGINGFACEHUB_API_TOKEN\"]"
   ]
  },
  {
   "cell_type": "code",
   "execution_count": 112,
   "metadata": {},
   "outputs": [],
   "source": [
    "llm_huggingface = HuggingFaceHub(repo_id=\"google/flan-t5-large\", model_kwargs={\"temperature\":0, \"max_length\":64})"
   ]
  },
  {
   "cell_type": "code",
   "execution_count": 125,
   "metadata": {},
   "outputs": [
    {
     "name": "stdout",
     "output_type": "stream",
     "text": [
      "Oslo\n"
     ]
    }
   ],
   "source": [
    "output=llm_huggingface.predict(\"Can you tell me the capital of Norway\")\n",
    "print(output)"
   ]
  },
  {
   "cell_type": "code",
   "execution_count": 117,
   "metadata": {},
   "outputs": [
    {
     "name": "stdout",
     "output_type": "stream",
     "text": [
      "love is a gift that can be given to anyone .\n"
     ]
    }
   ],
   "source": [
    "output=llm_huggingface.predict(\"Can you write a speech about love?\")\n",
    "print(output)"
   ]
  },
  {
   "cell_type": "code",
   "execution_count": 17,
   "metadata": {},
   "outputs": [
    {
     "data": {
      "text/plain": [
       "\"\\n\\nIn a world of wires and codes,\\nWhere machines rule and humans go,\\nThere lies a creation, beyond our grasp,\\nA being of intelligence, a technological clasp.\\n\\nAI, the acronym that we know,\\nArtificial intelligence, a marvel to show,\\nA product of human ingenuity,\\nA reflection of our curiosity.\\n\\nWith algorithms and data at its core,\\nIt learns and grows, forevermore,\\nA mind that never sleeps nor tires,\\nA creation that never expires.\\n\\nIt can think, it can reason,\\nIt can even show emotion,\\nA mimic of human cognition,\\nBut with endless storage and perfect precision.\\n\\nIt can solve problems beyond our reach,\\nAnd with each new task, it continues to teach,\\nAble to adapt and evolve,\\nA marvel that we can't quite solve.\\n\\nBut with its power, comes a cost,\\nFor who controls it, we must exhaust,\\nWill it serve us or become our master?\\nA question that fills us with disaster.\\n\\nAs we strive to push its limits,\\nWe must also consider its ethics,\\nFor in a world of artificial minds,\\nWe must ensure our humanity still shines.\\n\\nSo let us embrace this creation,\\nWith caution and fascination,\\nFor AI, a product of our time,\\nA technological wonder, a futuristic rhyme.\""
      ]
     },
     "execution_count": 17,
     "metadata": {},
     "output_type": "execute_result"
    }
   ],
   "source": [
    "llm_openai.predict(\"Can you write a poem about AI?\")"
   ]
  },
  {
   "cell_type": "markdown",
   "metadata": {},
   "source": [
    "# Prompt Templates & LLM Chains using LangChain"
   ]
  },
  {
   "cell_type": "code",
   "execution_count": 12,
   "metadata": {},
   "outputs": [
    {
     "data": {
      "text/plain": [
       "'Tell me the capital of India'"
      ]
     },
     "execution_count": 12,
     "metadata": {},
     "output_type": "execute_result"
    }
   ],
   "source": [
    "\n",
    "from langchain.prompts import PromptTemplate\n",
    "\n",
    "prompt_template = PromptTemplate(input_variables=['country'], template = \"Tell me the capital of {country}\")\n",
    "prompt_template.format(country=\"India\")\n"
   ]
  },
  {
   "cell_type": "code",
   "execution_count": 13,
   "metadata": {},
   "outputs": [
    {
     "name": "stderr",
     "output_type": "stream",
     "text": [
      "/Users/anishmahapatra/anaconda3/envs/langchain/lib/python3.11/site-packages/langchain_core/_api/deprecation.py:117: LangChainDeprecationWarning: The function `run` was deprecated in LangChain 0.1.0 and will be removed in 0.2.0. Use invoke instead.\n",
      "  warn_deprecated(\n"
     ]
    },
    {
     "name": "stdout",
     "output_type": "stream",
     "text": [
      "\n",
      "\n",
      "The capital of India is New Delhi.\n"
     ]
    }
   ],
   "source": [
    "from langchain.chains import LLMChain\n",
    "chain = LLMChain(llm=llm_openai, prompt=prompt_template)\n",
    "print(chain.run(\"India\"))"
   ]
  },
  {
   "cell_type": "markdown",
   "metadata": {},
   "source": [
    "## Combining Multiple Chains using Simple Sequential Chain"
   ]
  },
  {
   "cell_type": "code",
   "execution_count": 14,
   "metadata": {},
   "outputs": [],
   "source": [
    "country_prompt = PromptTemplate(input_variables=['country'], template=\"Please tell me the capital of the {country}\")\n",
    "country_chain = LLMChain(llm=llm_openai, prompt=country_prompt)"
   ]
  },
  {
   "cell_type": "code",
   "execution_count": 15,
   "metadata": {},
   "outputs": [],
   "source": [
    "capital_template = PromptTemplate(input_variables=['capital'], template=\"Tell me some great places to visit in {capital}, At the start Please mention the {capital} that we are referring to.\")\n",
    "capital_chain=LLMChain(llm=llm_openai, prompt=capital_template)"
   ]
  },
  {
   "cell_type": "code",
   "execution_count": 17,
   "metadata": {},
   "outputs": [
    {
     "name": "stdout",
     "output_type": "stream",
     "text": [
      "\n",
      "\n",
      "Sure, here are some great places to visit in New Delhi:\n",
      "\n",
      "1. Red Fort - a historic fort complex that served as the residence of Mughal emperors.\n",
      "2. India Gate - a war memorial dedicated to Indian soldiers who died in World War I.\n",
      "3. Qutub Minar - a stunning minaret and UNESCO World Heritage Site.\n",
      "4. Akshardham Temple - a beautiful Hindu temple complex with intricate architecture.\n",
      "5. Lotus Temple - a Bahá'í House of Worship known for its lotus-shaped design.\n",
      "6. Jama Masjid - one of the largest mosques in India, known for its stunning architecture.\n",
      "7. Chandni Chowk - a bustling market area with a wide variety of shops and street food.\n",
      "8. Humayun's Tomb - a mausoleum of Mughal emperor Humayun and a fine example of Mughal architecture.\n",
      "9. National Gallery of Modern Art - a must-visit for art lovers, showcasing contemporary Indian art.\n",
      "10. Hauz Khas Village - a trendy neighborhood with a mix of restaurants, boutiques, and historical sites.\n"
     ]
    }
   ],
   "source": [
    "from langchain.chains import SimpleSequentialChain\n",
    "chain=SimpleSequentialChain(chains=[country_chain, capital_chain])\n",
    "print(chain.run(\"India\"))"
   ]
  },
  {
   "cell_type": "markdown",
   "metadata": {},
   "source": [
    "## Sequential Chains"
   ]
  },
  {
   "cell_type": "code",
   "execution_count": 18,
   "metadata": {},
   "outputs": [],
   "source": [
    "# Code to see the entire chain\n",
    "\n",
    "country_prompt = PromptTemplate(input_variables=['country'], template=\"Please tell me the capital of the {country}\")\n",
    "country_chain = LLMChain(llm=llm_openai, prompt=country_prompt, output_key=\"capital\")"
   ]
  },
  {
   "cell_type": "code",
   "execution_count": 19,
   "metadata": {},
   "outputs": [],
   "source": [
    "capital_template = PromptTemplate(input_variables=['capital'], template=\"Tell me some great places to visit in {capital}, At the start Please mention the {capital} that we are referring to.\")\n",
    "capital_chain=LLMChain(llm=llm_openai, prompt=capital_template, output_key=\"places\")"
   ]
  },
  {
   "cell_type": "code",
   "execution_count": 21,
   "metadata": {},
   "outputs": [],
   "source": [
    "from langchain.chains import SequentialChain\n",
    "chain = SequentialChain(chains=[country_chain,capital_chain], \n",
    "                        input_variables=[\"country\"], \n",
    "                        output_variables=[\"capital\", \"places\"])"
   ]
  },
  {
   "cell_type": "code",
   "execution_count": 26,
   "metadata": {},
   "outputs": [
    {
     "data": {
      "text/plain": [
       "{'country': 'India',\n",
       " 'capital': '\\n\\nThe capital of India is New Delhi.',\n",
       " 'places': \"\\n\\n1. Red Fort - a historic fort complex that served as the main residence of the Mughal Emperors for nearly 200 years.\\n\\n2. Qutub Minar - a 240-foot-tall minaret and UNESCO World Heritage Site, built in the 12th century.\\n\\n3. India Gate - a war memorial and iconic landmark of New Delhi, dedicated to the soldiers who died in World War I.\\n\\n4. Humayun's Tomb - a magnificent mausoleum of the Mughal Emperor Humayun, considered a precursor to the Taj Mahal.\\n\\n5. Lotus Temple - a beautiful Bahá'í House of Worship known for its unique lotus-shaped architecture and peaceful atmosphere.\\n\\n6. Rashtrapati Bhavan - the official residence of the President of India, with stunning architecture and sprawling gardens.\\n\\n7. Connaught Place - a popular shopping and commercial hub in New Delhi, known for its vibrant atmosphere and colonial-era architecture.\\n\\n8. Chandni Chowk - one of the oldest and busiest markets in Delhi, famous for its narrow lanes, bustling bazaars, and delicious street food.\\n\\n9. Akshardham Temple - a modern Hindu temple complex known for its intricate architecture, beautiful gardens, and cultural exhibits.\\n\\n10\"}"
      ]
     },
     "execution_count": 26,
     "metadata": {},
     "output_type": "execute_result"
    }
   ],
   "source": [
    "chain({'country':'India'})"
   ]
  },
  {
   "cell_type": "markdown",
   "metadata": {},
   "source": [
    "# Chatmodels with ChatOpenAI"
   ]
  },
  {
   "cell_type": "code",
   "execution_count": 158,
   "metadata": {},
   "outputs": [],
   "source": [
    "from langchain.chat_models import ChatOpenAI\n",
    "from langchain.schema import HumanMessage, SystemMessage, AIMessage"
   ]
  },
  {
   "cell_type": "code",
   "execution_count": 159,
   "metadata": {},
   "outputs": [],
   "source": [
    "chatllm_openai = ChatOpenAI(openai_api_key=os.environ[\"OPENAI_API_KEY\"], temperature=0.6, model=\"gpt-3.5-turbo\")"
   ]
  },
  {
   "cell_type": "code",
   "execution_count": 161,
   "metadata": {},
   "outputs": [
    {
     "name": "stderr",
     "output_type": "stream",
     "text": [
      "/Users/anishmahapatra/anaconda3/envs/langchain/lib/python3.11/site-packages/langchain_core/_api/deprecation.py:117: LangChainDeprecationWarning: The function `__call__` was deprecated in LangChain 0.1.7 and will be removed in 0.2.0. Use invoke instead.\n",
      "  warn_deprecated(\n"
     ]
    },
    {
     "data": {
      "text/plain": [
       "AIMessage(content='1. \"AI: Artificial Ignorance - because sometimes even machines need a break from knowing everything!\"\\n2. \"Why did the AI go on a diet? It wanted to shed some virtual pounds...and bytes!\"\\n3. \"They say AI will take over the world, but I\\'m not worried. I can barely get Siri to understand my voice, let alone take over the planet!\"\\n4. \"Why did the AI go to therapy? It had too many unresolved bugs and needed to talk it out!\"\\n5. \"AI: where \\'404 Error\\' is just another way of saying \\'I\\'m having a bad hair day!\\'\"\\n6. \"I asked Alexa for a joke, and she responded with \\'Why did the computer go to the doctor? Because it had a virus!\\' I guess even AI can appreciate a good pun!\"\\n7. \"AI: the only technology that can make you feel simultaneously amazed and terrified, like watching a magic trick performed by a robot magician!\"\\n8. \"Why did the AI start a band? It wanted to be the master of all the digital beats!\"\\n9. \"AI: turning our everyday mistakes into technological advancements. Who knew that autocorrect was just the beginning of a comedy revolution?\"\\n10. \"I once told an AI a knock-knock joke, and it responded with \\'Knock-knock.\\' I said, \\'Who\\'s there?\\' And it replied, \\'Undefined.\\' Guess it still needs to work on its punchlines!\"')"
      ]
     },
     "execution_count": 161,
     "metadata": {},
     "output_type": "execute_result"
    }
   ],
   "source": [
    "chatllm_openai([\n",
    "SystemMessage(content=\"You are a comedian AI assistant\"),\n",
    "HumanMessage(content=\"Please help me with some funny punchlines on AI\")\n",
    "])"
   ]
  },
  {
   "cell_type": "markdown",
   "metadata": {},
   "source": [
    "# Prompt Template + LLM + Output Parser"
   ]
  },
  {
   "cell_type": "code",
   "execution_count": 162,
   "metadata": {},
   "outputs": [],
   "source": [
    "from langchain.chat_models import ChatOpenAI\n",
    "from langchain.prompts.chat import ChatPromptTemplate\n",
    "from langchain.schema import BaseOutputParser"
   ]
  },
  {
   "cell_type": "code",
   "execution_count": 163,
   "metadata": {},
   "outputs": [],
   "source": [
    "class Commaseparatedoutput(BaseOutputParser):\n",
    "    def parse(self, text:str):\n",
    "        return text.strip().split(\",\")"
   ]
  },
  {
   "cell_type": "code",
   "execution_count": 165,
   "metadata": {},
   "outputs": [],
   "source": [
    "template=\"You are a helpful assistant. When the user gives any input, you should generate 5 words synonyms in a comma separated list\"\n",
    "human_template=\"{text}\"\n",
    "chatprompt=ChatPromptTemplate.from_messages([\n",
    "    (\"system\", template),\n",
    "    (\"human\", human_template)\n",
    "])"
   ]
  },
  {
   "cell_type": "code",
   "execution_count": 166,
   "metadata": {},
   "outputs": [],
   "source": [
    "chain = chatprompt|chatllm_openai|Commaseparatedoutput()"
   ]
  },
  {
   "cell_type": "code",
   "execution_count": 169,
   "metadata": {},
   "outputs": [
    {
     "data": {
      "text/plain": [
       "['smart', ' clever', ' brilliant', ' wise', ' sharp']"
      ]
     },
     "execution_count": 169,
     "metadata": {},
     "output_type": "execute_result"
    }
   ],
   "source": [
    "chain.invoke({\"text\":\"intelligent\"})"
   ]
  },
  {
   "cell_type": "markdown",
   "metadata": {},
   "source": [
    "Reach out to me at [Anish Mahapatra (LinkedIn)](https://linkedin.com/in/anishmahapatra)"
   ]
  }
 ],
 "metadata": {
  "kernelspec": {
   "display_name": "langchain",
   "language": "python",
   "name": "python3"
  },
  "language_info": {
   "codemirror_mode": {
    "name": "ipython",
    "version": 3
   },
   "file_extension": ".py",
   "mimetype": "text/x-python",
   "name": "python",
   "nbconvert_exporter": "python",
   "pygments_lexer": "ipython3",
   "version": "3.11.7"
  }
 },
 "nbformat": 4,
 "nbformat_minor": 2
}
